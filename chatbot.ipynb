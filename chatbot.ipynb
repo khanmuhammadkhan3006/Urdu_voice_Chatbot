{
 "cells": [
  {
   "cell_type": "code",
   "execution_count": 1,
   "metadata": {},
   "outputs": [],
   "source": [
    "import os\n",
    "from dotenv import load_dotenv\n",
    "\n",
    "load_dotenv()\n",
    "\n",
    "key = os.getenv('openai_api_key')\n",
    "os.environ['OPENAI_API_KEY'] = key"
   ]
  },
  {
   "cell_type": "code",
   "execution_count": 2,
   "metadata": {},
   "outputs": [],
   "source": [
    "from langchain_openai import ChatOpenAI\n",
    "\n",
    "model = ChatOpenAI(\n",
    "    model='gpt-4o-mini',\n",
    "    max_tokens=20,\n",
    "    temperature=0.7,\n",
    "    )"
   ]
  },
  {
   "cell_type": "code",
   "execution_count": 3,
   "metadata": {},
   "outputs": [],
   "source": [
    "from langchain_core.output_parsers import StrOutputParser\n",
    "\n",
    "parser = StrOutputParser()\n",
    "\n",
    "chain = model | parser \n",
    "#chain.invoke('What is NLP in AI?')"
   ]
  },
  {
   "cell_type": "markdown",
   "metadata": {},
   "source": [
    "Text to Speech using pytts"
   ]
  },
  {
   "cell_type": "code",
   "execution_count": 7,
   "metadata": {},
   "outputs": [],
   "source": [
    "import pyttsx3\n",
    "\n",
    "# Initialize the text-to-speech engine\n",
    "engine = pyttsx3.init()\n",
    "\n",
    "# Text to be spoken\n",
    "text = \"hello world?\"\n",
    "\n",
    "# Convert text to speech\n",
    "engine.say(text)\n",
    "engine.runAndWait()\n"
   ]
  },
  {
   "cell_type": "markdown",
   "metadata": {},
   "source": [
    "Text to Speech using gTTs"
   ]
  },
  {
   "cell_type": "code",
   "execution_count": 5,
   "metadata": {},
   "outputs": [
    {
     "data": {
      "text/plain": [
       "0"
      ]
     },
     "execution_count": 5,
     "metadata": {},
     "output_type": "execute_result"
    }
   ],
   "source": [
    "from gtts import gTTS\n",
    "import os\n",
    "\n",
    "# Text to be spoken\n",
    "text = \"Hello, Khan?\"\n",
    "\n",
    "# Convert text to speech\n",
    "tts = gTTS(text=text, lang='en')\n",
    "\n",
    "# Save the converted audio to a file\n",
    "tts.save(\"output.mp3\")\n",
    "\n",
    "# Play the audio (requires a media player like VLC or equivalent)\n",
    "os.system(\"start output.mp3\")  # For Windows\n",
    "# os.system(\"xdg-open output.mp3\")  # For Linux\n"
   ]
  },
  {
   "cell_type": "markdown",
   "metadata": {},
   "source": [
    "Combining Both Text-Speech and Speech-Text"
   ]
  },
  {
   "cell_type": "code",
   "execution_count": 26,
   "metadata": {},
   "outputs": [
    {
     "name": "stdout",
     "output_type": "stream",
     "text": [
      "Say something: \n",
      "You said:  recognise speed using Google Web API and text\n"
     ]
    }
   ],
   "source": [
    "import speech_recognition as sr\n",
    "import pyttsx3\n",
    "\n",
    "# Initialize recognizer and text-to-speech engine\n",
    "recognizer = sr.Recognizer()\n",
    "engine = pyttsx3.init()\n",
    "\n",
    "# Capture speech from microphone\n",
    "with sr.Microphone() as source:\n",
    "    print(\"Say something: \")\n",
    "    audio = recognizer.listen(source, timeout=2)\n",
    "\n",
    "    try:\n",
    "        # Recognize speech using Google Web API\n",
    "        text = recognizer.recognize_google(audio)\n",
    "        print(\"You said: \", text)\n",
    "        \n",
    "        # Convert text to speech\n",
    "        engine.say(\"You said: \" + text)\n",
    "        engine.runAndWait()\n",
    "    except sr.UnknownValueError:\n",
    "        print(\"Sorry, I could not understand the audio.\")\n",
    "    except sr.RequestError:\n",
    "        print(\"Could not request results; check your internet connection.\")\n"
   ]
  },
  {
   "cell_type": "code",
   "execution_count": 6,
   "metadata": {},
   "outputs": [
    {
     "name": "stdout",
     "output_type": "stream",
     "text": [
      "Listening... (for 4 seconds)\n",
      "Recognized text: what is Deep learning in Ai\n",
      "Deep learning is a subset of artificial intelligence (AI) and machine learning that focuses on algorithms inspired by\n"
     ]
    }
   ],
   "source": [
    "import speech_recognition as sr\n",
    "import pyttsx3\n",
    "\n",
    "\n",
    "# Initialize recognizer for speech-to-text\n",
    "recognizer = sr.Recognizer()\n",
    "engine = pyttsx3.init()\n",
    "\n",
    "\n",
    "def listen_to_speech():\n",
    "    \"\"\"Listen to user's speech for a maximum of 4 seconds.\"\"\"\n",
    "    with sr.Microphone() as source:\n",
    "        print(\"Listening... (for 4 seconds)\")\n",
    "\n",
    "        # Set the timeout and phrase_time_limit parameters to 4 seconds\n",
    "        try:\n",
    "            audio = recognizer.listen(source, timeout=4, phrase_time_limit=4)\n",
    "        except sr.WaitTimeoutError:\n",
    "            print(\"Listening timed out while waiting for input.\")\n",
    "            return None\n",
    "\n",
    "        return audio  # Return the audio data for further processing\n",
    "\n",
    "def convert_audio_to_text(audio_data):\n",
    "    \"\"\"Convert audio data to text using Google Web API.\"\"\"\n",
    "    try:\n",
    "        # Recognize the speech using Google Web API\n",
    "        text = recognizer.recognize_google(audio_data)\n",
    "        print(f\"Recognized text: {text}\")\n",
    "        return text\n",
    "    except sr.UnknownValueError:\n",
    "        print(\"Sorry, I could not understand the audio.\")\n",
    "        return None\n",
    "    except sr.RequestError:\n",
    "        print(\"Could not request results; check your internet connection.\")\n",
    "        return None\n",
    "\n",
    "# Step 1: Listen to the speech for 4 seconds\n",
    "audio_data = listen_to_speech()\n",
    "\n",
    "# Step 2: Convert the audio data to text if it exists\n",
    "if audio_data:\n",
    "    text = convert_audio_to_text(audio_data)\n",
    "    #print(text)\n",
    "\n",
    "\n",
    "#get response from the model\n",
    "response = chain.invoke(text)\n",
    "\n",
    "\n",
    "#speak the response\n",
    "print(response)\n",
    "engine.say(response)\n",
    "engine.runAndWait()\n"
   ]
  },
  {
   "cell_type": "code",
   "execution_count": 8,
   "metadata": {},
   "outputs": [],
   "source": [
    "response = chain.invoke(text)"
   ]
  },
  {
   "cell_type": "code",
   "execution_count": 12,
   "metadata": {},
   "outputs": [],
   "source": [
    "import pyttsx3\n",
    "\n",
    "# Initialize the text-to-speech engine\n",
    "engine = pyttsx3.init()\n",
    "\n",
    "# Convert text to speech\n",
    "engine.say(response)\n",
    "engine.runAndWait()\n"
   ]
  },
  {
   "cell_type": "code",
   "execution_count": 10,
   "metadata": {},
   "outputs": [],
   "source": [
    "import pyttsx3\n",
    "\n",
    "def speak_text(text):\n",
    "    \"\"\"Convert text to speech using pyttsx3.\"\"\"\n",
    "    try:\n",
    "        # Initialize the text-to-speech engine\n",
    "        engine = pyttsx3.init()\n",
    "        engine.setProperty('rate', 150)  # Speed\n",
    "        engine.setProperty('volume', 1)  # Volume (0.0 to 1.0)\n",
    "\n",
    "        # Convert text to speech\n",
    "        engine.say(text)\n",
    "\n",
    "        # Block while processing all currently queued commands\n",
    "        engine.runAndWait()\n",
    "\n",
    "    except Exception as e:\n",
    "        print(f\"Error in speech synthesis: {e}\")\n",
    "\n",
    "if __name__ == \"__main__\":\n",
    "    # Example Urdu text\n",
    "    text_to_speak = \"hello.\"  # Replace with any text you want\n",
    "    speak_text(text_to_speak)\n"
   ]
  }
 ],
 "metadata": {
  "kernelspec": {
   "display_name": "bot",
   "language": "python",
   "name": "python3"
  },
  "language_info": {
   "codemirror_mode": {
    "name": "ipython",
    "version": 3
   },
   "file_extension": ".py",
   "mimetype": "text/x-python",
   "name": "python",
   "nbconvert_exporter": "python",
   "pygments_lexer": "ipython3",
   "version": "3.9.19"
  }
 },
 "nbformat": 4,
 "nbformat_minor": 2
}
